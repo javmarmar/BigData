{
 "cells": [
  {
   "cell_type": "code",
   "execution_count": 1,
   "metadata": {},
   "outputs": [],
   "source": [
    "import csv"
   ]
  },
  {
   "cell_type": "code",
   "execution_count": 9,
   "metadata": {},
   "outputs": [],
   "source": [
    "def AcumJugadores():\n",
    "    \n",
    "    AcumJugadoresl=open(\"PitchingPost.csv\")\n",
    "    lectorPitch=csv.reader(AcumJugadoresl)\n",
    "\n",
    "\n",
    "    datosPitch=list(lectorPitch)\n",
    "    datosPitch.remove(datosPitch[0])\n",
    "    frec = []\n",
    "    for i in range(len(datosPitch)):\n",
    "        frec.append(datosPitch[i][0])\n",
    "        AcumJugadoresD = dict() \n",
    "    for k in frec:\n",
    "            \n",
    "               AcumJugadoresD[k]=frec.count(k)\n",
    "    archivoSalida = open(\"AcumJugadores.csv\", mode = \"w\")\n",
    "\n",
    "    salidaEscritor = csv.writer(archivoSalida,lineterminator=\"\\n\")            \n",
    "\n",
    "    salidaEscritor.writerow([\"Jugador\",\"Frecuencia\"])\n",
    "\n",
    "    for (clave,valor) in AcumJugadoresD.items():\n",
    "        linea = (clave , valor)\n",
    "        salidaEscritor.writerow(linea)\n",
    "      \n",
    "    archivoSalida.close()\n",
    "    return\n",
    "    "
   ]
  },
  {
   "cell_type": "code",
   "execution_count": 10,
   "metadata": {},
   "outputs": [],
   "source": [
    "AcumJugadores()"
   ]
  }
 ],
 "metadata": {
  "kernelspec": {
   "display_name": "Python 3",
   "language": "python",
   "name": "python3"
  },
  "language_info": {
   "codemirror_mode": {
    "name": "ipython",
    "version": 3
   },
   "file_extension": ".py",
   "mimetype": "text/x-python",
   "name": "python",
   "nbconvert_exporter": "python",
   "pygments_lexer": "ipython3",
   "version": "3.7.0"
  }
 },
 "nbformat": 4,
 "nbformat_minor": 2
}
