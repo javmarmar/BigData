{
 "cells": [
  {
   "cell_type": "markdown",
   "metadata": {},
   "source": [
    "EVALUACIÓN MÓDULO 3 : PROBLEMA 2"
   ]
  },
  {
   "cell_type": "markdown",
   "metadata": {},
   "source": [
    "Crea un conjunto de datos utilizando el siguiente código:\n",
    "\n",
    "trX = np.linspace(-1, 1, 101)\n",
    "\n",
    "trY = np.linspace(-1, 1, 101)\n",
    "\n",
    "for i in range(len(trY)):\n",
    "\n",
    "trY[i] = math.log(1 + 0.5 * abs(trX[i])) + trX[i] / 3 + np.random.randn() * 0.033\n",
    "\n",
    "Ahora, utiliza Theano para obtener los parámetros w_0 y w_1 del siguiente modelo:\n",
    "\n",
    "y = log(1+w0|x|)+w1*x\n",
    "\n",
    "utilizando los datos generados anteriormente."
   ]
  },
  {
   "cell_type": "code",
   "execution_count": 112,
   "metadata": {},
   "outputs": [
    {
     "name": "stdout",
     "output_type": "stream",
     "text": [
      "Using matplotlib backend: MacOSX\n",
      "Populating the interactive namespace from numpy and matplotlib\n"
     ]
    },
    {
     "name": "stderr",
     "output_type": "stream",
     "text": [
      "/anaconda3/lib/python3.7/site-packages/IPython/core/magics/pylab.py:160: UserWarning: pylab import has clobbered these variables: ['f']\n",
      "`%matplotlib` prevents importing * from pylab and numpy\n",
      "  \"\\n`%matplotlib` prevents importing * from pylab and numpy\"\n"
     ]
    }
   ],
   "source": [
    "%pylab\n",
    "%matplotlib inline\n",
    "\n",
    "%config InlineBackend.figure_format = 'retina'"
   ]
  },
  {
   "cell_type": "code",
   "execution_count": 115,
   "metadata": {},
   "outputs": [],
   "source": [
    "import theano\n",
    "import theano.tensor as T\n",
    "from theano.ifelse import ifelse"
   ]
  },
  {
   "cell_type": "markdown",
   "metadata": {},
   "source": [
    "Lo primero que hacemos en este código es un conjunto de datos de muestra como se pide en el enunciado. Para ello, se toman 101 puntos entre -1 y 1 para calcular el valor que tendría un modelo lineal para la expresión y = log(1+0,5|x|)+(1/3)*x ,a la que se le ha añadido un ruido blanco de amplitud y media igual a 0,033. Posteriormente, se crean dos variables para el modelo en el que se utilizan dos variables compartidas w0 y w1, una para cada uno de los parámetros del modelo.\n",
    "Una vez se ha definido el modelo, calculamos la función de coste (cost) empleando el error cuadrático medio, para lo cual se ha de calcular el gradiente con respecto a los dos parámetros (gradient_w0 y gradient_w1) y se utilizan para definir una función de actualización. Esta actualización es el valor del parámetro menos el gradiente por el factor de aprendizaje, en nuestro código es de 0,01. Con todo esto, creamos una función Theano en la que se indiquen los valores de entrada, los de salida y la función de actualización.\n",
    "En nuestro caso , realizamos el entrenamiento que se repite 101 veces y en la salida del código se puede ver que los valores se aproximan a los esperados , esto es , w0 próximo a 0,5 y w1 próximo a 1/3."
   ]
  },
  {
   "cell_type": "code",
   "execution_count": 117,
   "metadata": {},
   "outputs": [
    {
     "name": "stdout",
     "output_type": "stream",
     "text": [
      "En el paso 0 el valor de w0 es 0.20180896897527895 y w1 es 0.17084543615893064 con un coste 0.16572786612579996\n",
      "En el paso 1 el valor de w0 es 0.30847078616129053 y w1 es 0.257970449991101 con un coste 0.0521477531227361\n",
      "En el paso 2 el valor de w0 es 0.37341689423186764 y w1 es 0.30068558068526396 con un coste 0.017972429794004974\n",
      "En el paso 3 el valor de w0 es 0.4153331929118252 y w1 es 0.32112126547574 con un coste 0.006709864943645037\n",
      "En el paso 4 el valor de w0 es 0.4431839553708907 y w1 es 0.3306223047711409 con un coste 0.002704914591998713\n",
      "En el paso 5 el valor de w0 es 0.4619878682173289 y w1 es 0.3348545577850317 con un coste 0.001176374560387153\n",
      "En el paso 6 el valor de w0 es 0.4748033263921529 y w1 es 0.33660497344315415 con un coste 0.0005522221540086622\n",
      "En el paso 7 el valor de w0 es 0.48358757989043744 y w1 es 0.337224641770306 con un coste 0.0002802962935220404\n",
      "En el paso 8 el valor de w0 es 0.4896303033157017 y w1 es 0.33735670685068736 con un coste 0.00015421975076414902\n",
      "En el paso 9 el valor de w0 es 0.4937966412926729 y w1 es 0.33729933826145336 con un coste 9.217264386900901e-05\n",
      "En el paso 10 el valor de w0 es 0.4966734996230673 y w1 es 0.3371850882750243 con un coste 5.985548513578069e-05\n",
      "En el paso 11 el valor de w0 es 0.49866188517574783 y w1 es 0.33706866806363484 con un coste 4.210912741129214e-05\n",
      "En el paso 12 el valor de w0 es 0.5000370545218001 y w1 es 0.33696938143476196 con un coste 3.188661055093803e-05\n",
      "En el paso 13 el valor de w0 es 0.5009885154296819 y w1 es 0.3368912880421045 con un coste 2.574777555232295e-05\n",
      "En el paso 14 el valor de w0 es 0.5016469962362751 y w1 es 0.33683253874219116 con un coste 2.193087062144655e-05\n",
      "En el paso 15 el valor de w0 es 0.5021027938991849 y w1 es 0.3367895203314839 con un coste 1.949050796238712e-05\n",
      "En el paso 16 el valor de w0 es 0.5024183315275553 y w1 es 0.336758563413323 con un coste 1.7896126966994186e-05\n",
      "En el paso 17 el valor de w0 es 0.5026367869081036 y w1 es 0.33673654298538186 con un coste 1.6837338059073578e-05\n",
      "En el paso 18 el valor de w0 es 0.5027880368910752 y w1 es 0.3367210029218895 con un coste 1.6125723944894275e-05\n",
      "En el paso 19 el valor de w0 es 0.5028927597240666 y w1 es 0.33671009631838184 con un coste 1.5643263246889865e-05\n",
      "En el paso 20 el valor de w0 es 0.5029652694022696 y w1 es 0.3367024711935478 con un coste 1.531411793212981e-05\n",
      "En el paso 21 el valor de w0 es 0.5030154754388875 y w1 es 0.33669715482308504 con un coste 1.5088571506638153e-05\n",
      "En el paso 22 el valor de w0 es 0.5030502385964889 y w1 es 0.336693455376623 con un coste 1.493353264055082e-05\n",
      "En el paso 23 el valor de w0 es 0.5030743090630422 y w1 es 0.3366908846676513 con un coste 1.4826726045286407e-05\n",
      "En el paso 24 el valor de w0 es 0.5030909758155663 y w1 es 0.336689100091374 con un coste 1.4753033596211768e-05\n",
      "En el paso 25 el valor de w0 es 0.5031025161432336 y w1 es 0.3366878621342741 con un coste 1.4702133981667182e-05\n",
      "En el paso 26 el valor de w0 es 0.503110506858462 y w1 es 0.33668700380911504 con un coste 1.4666951072380725e-05\n",
      "En el paso 27 el valor de w0 es 0.503116039765076 y w1 es 0.3366864089191634 con un coste 1.4642619160243238e-05\n",
      "En el paso 28 el valor de w0 es 0.5031198708439281 y w1 es 0.3366859967219183 con un coste 1.4625785476567516e-05\n",
      "En el paso 29 el valor de w0 es 0.5031225235482583 y w1 es 0.3366857111669856 con un coste 1.4614136372825392e-05\n",
      "En el paso 30 el valor de w0 es 0.5031243603258653 y w1 es 0.3366855133726891 con un coste 1.460607362971954e-05\n",
      "En el paso 31 el valor de w0 es 0.5031256321418164 y w1 es 0.33668537638099566 con un coste 1.4600492440268627e-05\n",
      "En el paso 32 el valor de w0 es 0.5031265127686554 y w1 es 0.3366852815078662 con un coste 1.4596628698567584e-05\n",
      "En el paso 33 el valor de w0 es 0.5031271225294929 y w1 es 0.33668521580723965 con un coste 1.4593953749862292e-05\n",
      "En el paso 34 el valor de w0 es 0.50312754473812 y w1 es 0.33668517031059053 con un coste 1.4592101749818781e-05\n",
      "En el paso 35 el valor de w0 es 0.5031278370824319 y w1 es 0.33668513880573553 con un coste 1.4590819480681788e-05\n",
      "En el paso 36 el valor de w0 es 0.5031280395065091 y w1 es 0.3366851169901425 con un coste 1.4589931658037071e-05\n",
      "En el paso 37 el valor de w0 es 0.5031281796683096 y w1 es 0.3366851018841102 con un coste 1.4589316935118793e-05\n",
      "En el paso 38 el valor de w0 es 0.5031282767186701 y w1 es 0.3366850914241665 con un coste 1.4588891300551676e-05\n",
      "En el paso 39 el valor de w0 es 0.5031283439179502 y w1 es 0.3366850841813903 con un coste 1.458859658885414e-05\n",
      "En el paso 40 el valor de w0 es 0.5031283904478466 y w1 es 0.33668507916630297 con un coste 1.4588392527881062e-05\n",
      "En el paso 41 el valor de w0 es 0.5031284226659184 y w1 es 0.336685075693739 con un coste 1.458825123379122e-05\n",
      "En el paso 42 el valor de w0 es 0.503128444974245 y w1 es 0.3366850732892609 con un coste 1.4588153399961502e-05\n",
      "En el paso 43 el valor de w0 es 0.5031284604208999 y w1 es 0.3366850716243516 con un coste 1.4588085658460607e-05\n",
      "En el paso 44 el valor de w0 es 0.5031284711164196 y w1 es 0.33668507047153656 con un coste 1.4588038753248789e-05\n",
      "En el paso 45 el valor de w0 es 0.5031284785221738 y w1 es 0.33668506967330675 con un coste 1.4588006275364082e-05\n",
      "En el paso 46 el valor de w0 es 0.5031284836500408 y w1 es 0.33668506912059776 con un coste 1.4587983787170435e-05\n",
      "En el paso 47 el valor de w0 es 0.503128487200661 y w1 es 0.33668506873789233 con un coste 1.4587968215987361e-05\n",
      "En el paso 48 el valor de w0 es 0.5031284896591693 y w1 es 0.3366850684729003 con un coste 1.4587957434250227e-05\n",
      "En el paso 49 el valor de w0 es 0.5031284913614805 y w1 es 0.33668506828941575 con un coste 1.4587949968799589e-05\n",
      "En el paso 50 el valor de w0 es 0.5031284925401898 y w1 es 0.3366850681623677 con un coste 1.4587944799597645e-05\n",
      "En el paso 51 el valor de w0 es 0.503128493356347 y w1 es 0.3366850680743975 con un coste 1.4587941220360638e-05\n",
      "En el paso 52 el valor de w0 es 0.5031284939214679 y w1 es 0.33668506801348563 con un coste 1.4587938742037137e-05\n",
      "En el paso 53 el valor de w0 es 0.5031284943127667 y w1 es 0.33668506797130926 con un coste 1.4587937026004366e-05\n",
      "En el paso 54 el valor de w0 es 0.5031284945837085 y w1 es 0.3366850679421056 con un coste 1.4587935837795877e-05\n",
      "En el paso 55 el valor de w0 es 0.5031284947713127 y w1 es 0.3366850679218845 con un coste 1.4587935015062686e-05\n",
      "En el paso 56 el valor de w0 es 0.5031284949012135 y w1 es 0.336685067907883 con un coste 1.458793444538659e-05\n",
      "En el paso 57 el valor de w0 es 0.5031284949911587 y w1 es 0.3366850678981882 con un coste 1.458793405093413e-05\n",
      "En el paso 58 el valor de w0 es 0.5031284950534387 y w1 es 0.3366850678914752 con un coste 1.4587933777808082e-05\n",
      "En el paso 59 el valor de w0 es 0.5031284950965621 y w1 es 0.3366850678868272 con un coste 1.4587933588689506e-05\n",
      "En el paso 60 el valor de w0 es 0.5031284951264215 y w1 es 0.3366850678836089 con un coste 1.4587933457740779e-05\n",
      "En el paso 61 el valor de w0 es 0.5031284951470968 y w1 es 0.3366850678813803 con un coste 1.4587933367071636e-05\n",
      "En el paso 62 el valor de w0 es 0.5031284951614129 y w1 es 0.3366850678798371 con un coste 1.458793330428908e-05\n",
      "En el paso 63 el valor de w0 es 0.5031284951713254 y w1 es 0.33668506787876873 con un coste 1.4587933260818167e-05\n",
      "En el paso 64 el valor de w0 es 0.5031284951781889 y w1 es 0.33668506787802877 con un coste 1.4587933230719788e-05\n",
      "En el paso 65 el valor de w0 es 0.5031284951829413 y w1 es 0.3366850678775164 con un coste 1.4587933209879057e-05\n",
      "En el paso 66 el valor de w0 es 0.5031284951862318 y w1 es 0.3366850678771619 con un coste 1.4587933195448118e-05\n",
      "En el paso 67 el valor de w0 es 0.5031284951885099 y w1 es 0.3366850678769165 con un coste 1.4587933185456032e-05\n",
      "En el paso 68 el valor de w0 es 0.5031284951900877 y w1 es 0.33668506787674635 con un coste 1.4587933178537391e-05\n",
      "En el paso 69 el valor de w0 es 0.50312849519118 y w1 es 0.3366850678766285 con un coste 1.458793317374828e-05\n",
      "En el paso 70 el valor de w0 es 0.5031284951919365 y w1 es 0.336685067876547 con un coste 1.458793317043059e-05\n",
      "En el paso 71 el valor de w0 es 0.5031284951924602 y w1 es 0.3366850678764908 con un coste 1.4587933168131442e-05\n",
      "En el paso 72 el valor de w0 es 0.5031284951928231 y w1 es 0.3366850678764516 con un coste 1.4587933166540443e-05\n",
      "En el paso 73 el valor de w0 es 0.5031284951930737 y w1 es 0.3366850678764248 con un coste 1.4587933165439634e-05\n",
      "En el paso 74 el valor de w0 es 0.5031284951932478 y w1 es 0.33668506787640595 con un coste 1.4587933164678058e-05\n",
      "En el paso 75 el valor de w0 es 0.5031284951933678 y w1 es 0.33668506787639274 con un coste 1.4587933164153945e-05\n",
      "En el paso 76 el valor de w0 es 0.5031284951934513 y w1 es 0.33668506787638397 con un coste 1.458793316378503e-05\n",
      "En el paso 77 el valor de w0 es 0.5031284951935094 y w1 es 0.33668506787637775 con un coste 1.4587933163529758e-05\n",
      "En el paso 78 el valor de w0 es 0.5031284951935491 y w1 es 0.33668506787637337 con un coste 1.458793316335675e-05\n",
      "En el paso 79 el valor de w0 es 0.5031284951935766 y w1 es 0.33668506787637054 con un coste 1.4587933163234626e-05\n",
      "En el paso 80 el valor de w0 es 0.5031284951935956 y w1 es 0.3366850678763686 con un coste 1.4587933163151514e-05\n",
      "En el paso 81 el valor de w0 es 0.503128495193609 y w1 es 0.33668506787636715 con un coste 1.4587933163092149e-05\n",
      "En el paso 82 el valor de w0 es 0.5031284951936182 y w1 es 0.33668506787636593 con un coste 1.4587933163053136e-05\n",
      "En el paso 83 el valor de w0 es 0.5031284951936248 y w1 es 0.3366850678763652 con un coste 1.458793316302515e-05\n",
      "En el paso 84 el valor de w0 es 0.5031284951936288 y w1 es 0.3366850678763648 con un coste 1.458793316300734e-05\n",
      "En el paso 85 el valor de w0 es 0.5031284951936311 y w1 es 0.3366850678763646 con un coste 1.4587933162995467e-05\n",
      "En el paso 86 el valor de w0 es 0.5031284951936329 y w1 es 0.33668506787636443 con un coste 1.4587933162988682e-05\n",
      "En el paso 87 el valor de w0 es 0.5031284951936343 y w1 es 0.33668506787636426 con un coste 1.4587933162981897e-05\n",
      "En el paso 88 el valor de w0 es 0.5031284951936356 y w1 es 0.3366850678763641 con un coste 1.458793316297681e-05\n",
      "En el paso 89 el valor de w0 es 0.5031284951936367 y w1 es 0.3366850678763639 con un coste 1.4587933162973417e-05\n",
      "En el paso 90 el valor de w0 es 0.5031284951936376 y w1 es 0.33668506787636393 con un coste 1.4587933162968328e-05\n",
      "En el paso 91 el valor de w0 es 0.5031284951936381 y w1 es 0.33668506787636404 con un coste 1.4587933162964936e-05\n",
      "En el paso 92 el valor de w0 es 0.5031284951936384 y w1 es 0.33668506787636404 con un coste 1.458793316296324e-05\n",
      "En el paso 93 el valor de w0 es 0.5031284951936384 y w1 es 0.3366850678763641 con un coste 1.4587933162962392e-05\n",
      "En el paso 94 el valor de w0 es 0.5031284951936386 y w1 es 0.3366850678763641 con un coste 1.4587933162961543e-05\n",
      "En el paso 95 el valor de w0 es 0.5031284951936386 y w1 es 0.3366850678763641 con un coste 1.4587933162961543e-05\n",
      "En el paso 96 el valor de w0 es 0.5031284951936386 y w1 es 0.3366850678763641 con un coste 1.4587933162961543e-05\n",
      "En el paso 97 el valor de w0 es 0.5031284951936386 y w1 es 0.3366850678763641 con un coste 1.4587933162961543e-05\n",
      "En el paso 98 el valor de w0 es 0.5031284951936386 y w1 es 0.3366850678763641 con un coste 1.4587933162961543e-05\n",
      "En el paso 99 el valor de w0 es 0.5031284951936386 y w1 es 0.3366850678763641 con un coste 1.4587933162961543e-05\n",
      "En el paso 100 el valor de w0 es 0.5031284951936386 y w1 es 0.3366850678763641 con un coste 1.4587933162961543e-05\n"
     ]
    }
   ],
   "source": [
    "import numpy as np\n",
    "\n",
    "trX = np.linspace(-1, 1, 101)\n",
    "\n",
    "trY = np.linspace(-1, 1, 101)\n",
    "\n",
    "for i in range(len(trY)):\n",
    "\n",
    "    trY[i] = math.log(1 + 0.5 * abs(trX[i])) + trX[i] / 3 + np.random.randn() * 0.033\n",
    "\n",
    "X = T.scalar()\n",
    "Y = T.scalar()\n",
    "\n",
    "def model(X, w0, w1):\n",
    "    return log(1+w0*abs(X))+ w1*X\n",
    "\n",
    "w0 = theano.shared(np.asarray(0., dtype = theano.config.floatX))\n",
    "w1 = theano.shared(np.asarray(0., dtype = theano.config.floatX))\n",
    "y = model(X, w0, w1)\n",
    "\n",
    "cost     = T.mean(T.sqr(y - Y))\n",
    "gradient_w0 = T.grad(cost = cost, wrt = w0)\n",
    "gradient_w1 = T.grad(cost = cost, wrt = w1)\n",
    "updates  = [[w0, w0 - gradient_w0 * 0.01], [w1, w1 - gradient_w1 * 0.01]]\n",
    "\n",
    "train = theano.function(inputs = [X, Y], outputs = cost, updates = updates)\n",
    "\n",
    "for i in range(101):\n",
    "    for x, y in zip(trX, trY):\n",
    "        cost_i = train(x, y)\n",
    "    print('En el paso', i, 'el valor de w0 es', w0.get_value(),\n",
    "           'y w1 es', w1.get_value(), 'con un coste', cost_i)"
   ]
  },
  {
   "cell_type": "markdown",
   "metadata": {},
   "source": [
    "Mediante una de las grandes características de Theano , como es la facilidad con la que se pueden calcular los gradientes de las funciones hemos podido obtener los parámetros del modelo utilizando el método del gradiente descendente (lo que permite obtener unos resultados tan buenos como podemos ver en los resultados y , tan solo con 9 ó 10 iteraciones).\n",
    "Para calcular el gradiente de una variable respecto a otra, se ha de utilizar la función T.grad indicando como primer parámetro la variable sobre la que se desea estimar el gradiente y como segundo la variable respecto a la que se realiza. Esta función devuelve una nueva variable simbólica que se puede ser utilizada en las funciones o evaluada.La potencia de la función gradiente de Theano es tal que permite derivar cualquier tipo de función en polinomios, incluyendo funciones trigonométricas, logaritmos (como es nuestro caso ) y otras funciones más complejas."
   ]
  }
 ],
 "metadata": {
  "kernelspec": {
   "display_name": "Python 3",
   "language": "python",
   "name": "python3"
  },
  "language_info": {
   "codemirror_mode": {
    "name": "ipython",
    "version": 3
   },
   "file_extension": ".py",
   "mimetype": "text/x-python",
   "name": "python",
   "nbconvert_exporter": "python",
   "pygments_lexer": "ipython3",
   "version": "3.7.0"
  }
 },
 "nbformat": 4,
 "nbformat_minor": 2
}
