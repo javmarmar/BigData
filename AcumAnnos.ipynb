{
 "cells": [
  {
   "cell_type": "code",
   "execution_count": 7,
   "metadata": {},
   "outputs": [],
   "source": [
    "import csv"
   ]
  },
  {
   "cell_type": "code",
   "execution_count": 8,
   "metadata": {},
   "outputs": [],
   "source": [
    "def AcumAnnos():\n",
    "    \n",
    "    AcumAnnosl=open(\"PitchingPost.csv\")\n",
    "    lectorPitch=csv.reader(AcumAnnosl)\n",
    "\n",
    "\n",
    "    datosPitch=list(lectorPitch)\n",
    "    frec = []\n",
    "    for i in range(len(datosPitch)):\n",
    "        frec.append(datosPitch[i][1])\n",
    "              \n",
    "    AcumAnnosD = dict() \n",
    "    for k in frec:\n",
    "        AcumAnnosD[k]=frec.count(k)\n",
    "            \n",
    "    archivoSalida = open(\"AcumAnnos.csv\", mode = \"w\")\n",
    "    salidaEscritor = csv.writer(archivoSalida,lineterminator=\"\\n\")\n",
    "            \n",
    "    salidaEscritor.writerow([\"Año\",\"Frecuencia\"])\n",
    "\n",
    "    for (clave,valor) in AcumAnnosD.items():\n",
    "        linea = (clave , valor)\n",
    "        salidaEscritor.writerow(linea)\n",
    "    archivoSalida.close()\n",
    "    return"
   ]
  },
  {
   "cell_type": "code",
   "execution_count": 9,
   "metadata": {},
   "outputs": [],
   "source": [
    "AcumAnnos()"
   ]
  }
 ],
 "metadata": {
  "kernelspec": {
   "display_name": "Python 3",
   "language": "python",
   "name": "python3"
  },
  "language_info": {
   "codemirror_mode": {
    "name": "ipython",
    "version": 3
   },
   "file_extension": ".py",
   "mimetype": "text/x-python",
   "name": "python",
   "nbconvert_exporter": "python",
   "pygments_lexer": "ipython3",
   "version": "3.7.0"
  }
 },
 "nbformat": 4,
 "nbformat_minor": 2
}
