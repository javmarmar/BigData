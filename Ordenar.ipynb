{
 "cells": [
  {
   "cell_type": "code",
   "execution_count": 4,
   "metadata": {},
   "outputs": [],
   "source": [
    "import csv"
   ]
  },
  {
   "cell_type": "code",
   "execution_count": 9,
   "metadata": {},
   "outputs": [],
   "source": [
    "def ordenar():\n",
    "    Ordenadol=open(\"PitchingPost.csv\")\n",
    "    lectorPitch=csv.reader(Ordenadol)\n",
    "    Datos=list(lectorPitch)\n",
    "    Datos.remove(Datos[0])\n",
    "    Datos.sort()\n",
    "    \n",
    "    archivoSalida = open(\"Ordenado.csv\", mode = \"w\")\n",
    "    salidaEscritor = csv.writer(archivoSalida,lineterminator=\"\\n\")            \n",
    "    salidaEscritor.writerow([\"Datos por jugador\"])\n",
    "    for k in range(len(Datos)):\n",
    "        linea = Datos[k]\n",
    "        salidaEscritor.writerow(linea)\n",
    "        \n",
    "    archivoSalida.close()       \n",
    "    return\n",
    "\n"
   ]
  },
  {
   "cell_type": "code",
   "execution_count": 10,
   "metadata": {},
   "outputs": [],
   "source": [
    "ordenar()"
   ]
  }
 ],
 "metadata": {
  "kernelspec": {
   "display_name": "Python 3",
   "language": "python",
   "name": "python3"
  },
  "language_info": {
   "codemirror_mode": {
    "name": "ipython",
    "version": 3
   },
   "file_extension": ".py",
   "mimetype": "text/x-python",
   "name": "python",
   "nbconvert_exporter": "python",
   "pygments_lexer": "ipython3",
   "version": "3.7.0"
  }
 },
 "nbformat": 4,
 "nbformat_minor": 2
}
